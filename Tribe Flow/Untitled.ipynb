{
 "cells": [
  {
   "cell_type": "code",
   "execution_count": 5,
   "metadata": {
    "collapsed": false
   },
   "outputs": [],
   "source": [
    "import pandas as pd\n",
    "import csv\n",
    "\n",
    "df = pd.DataFrame.from_csv('D:/Nanohub/TribeFlow/TF_Full_dataset.csv', sep ='\\t', encoding = 'UTF-8', header = None)\n",
    "df.columns = ['ip','resource id','datetime']"
   ]
  },
  {
   "cell_type": "code",
   "execution_count": 6,
   "metadata": {
    "collapsed": false
   },
   "outputs": [
    {
     "data": {
      "text/html": [
       "<div>\n",
       "<table border=\"1\" class=\"dataframe\">\n",
       "  <thead>\n",
       "    <tr style=\"text-align: right;\">\n",
       "      <th></th>\n",
       "      <th>ip</th>\n",
       "      <th>resource id</th>\n",
       "      <th>datetime</th>\n",
       "    </tr>\n",
       "    <tr>\n",
       "      <th>0</th>\n",
       "      <th></th>\n",
       "      <th></th>\n",
       "      <th></th>\n",
       "    </tr>\n",
       "  </thead>\n",
       "  <tbody>\n",
       "    <tr>\n",
       "      <th>24841894</th>\n",
       "      <td>218.186.11.11</td>\n",
       "      <td>1802</td>\n",
       "      <td>2011-01-01 00:08:59</td>\n",
       "    </tr>\n",
       "    <tr>\n",
       "      <th>24842019</th>\n",
       "      <td>124.53.229.10</td>\n",
       "      <td>1331</td>\n",
       "      <td>2011-01-01 00:15:11</td>\n",
       "    </tr>\n",
       "    <tr>\n",
       "      <th>24842310</th>\n",
       "      <td>123.125.67.243</td>\n",
       "      <td>1736</td>\n",
       "      <td>2011-01-01 00:23:14</td>\n",
       "    </tr>\n",
       "    <tr>\n",
       "      <th>24842528</th>\n",
       "      <td>220.181.18.12</td>\n",
       "      <td>6191</td>\n",
       "      <td>2011-01-01 00:27:03</td>\n",
       "    </tr>\n",
       "    <tr>\n",
       "      <th>24842567</th>\n",
       "      <td>59.92.105.152</td>\n",
       "      <td>6735</td>\n",
       "      <td>2011-01-01 00:28:20</td>\n",
       "    </tr>\n",
       "  </tbody>\n",
       "</table>\n",
       "</div>"
      ],
      "text/plain": [
       "                      ip  resource id             datetime\n",
       "0                                                         \n",
       "24841894   218.186.11.11         1802  2011-01-01 00:08:59\n",
       "24842019   124.53.229.10         1331  2011-01-01 00:15:11\n",
       "24842310  123.125.67.243         1736  2011-01-01 00:23:14\n",
       "24842528   220.181.18.12         6191  2011-01-01 00:27:03\n",
       "24842567   59.92.105.152         6735  2011-01-01 00:28:20"
      ]
     },
     "execution_count": 6,
     "metadata": {},
     "output_type": "execute_result"
    }
   ],
   "source": [
    "df.head(5)"
   ]
  },
  {
   "cell_type": "code",
   "execution_count": 7,
   "metadata": {
    "collapsed": true
   },
   "outputs": [],
   "source": [
    "df_no_dups = df.drop_duplicates(subset = ['ip','resource id'], keep = 'first')"
   ]
  },
  {
   "cell_type": "code",
   "execution_count": 8,
   "metadata": {
    "collapsed": false
   },
   "outputs": [
    {
     "data": {
      "text/html": [
       "<div>\n",
       "<table border=\"1\" class=\"dataframe\">\n",
       "  <thead>\n",
       "    <tr style=\"text-align: right;\">\n",
       "      <th></th>\n",
       "      <th>ip</th>\n",
       "      <th>resource id</th>\n",
       "      <th>datetime</th>\n",
       "    </tr>\n",
       "    <tr>\n",
       "      <th>0</th>\n",
       "      <th></th>\n",
       "      <th></th>\n",
       "      <th></th>\n",
       "    </tr>\n",
       "  </thead>\n",
       "  <tbody>\n",
       "    <tr>\n",
       "      <th>24841894</th>\n",
       "      <td>218.186.11.11</td>\n",
       "      <td>1802</td>\n",
       "      <td>2011-01-01 00:08:59</td>\n",
       "    </tr>\n",
       "    <tr>\n",
       "      <th>24842019</th>\n",
       "      <td>124.53.229.10</td>\n",
       "      <td>1331</td>\n",
       "      <td>2011-01-01 00:15:11</td>\n",
       "    </tr>\n",
       "    <tr>\n",
       "      <th>24842310</th>\n",
       "      <td>123.125.67.243</td>\n",
       "      <td>1736</td>\n",
       "      <td>2011-01-01 00:23:14</td>\n",
       "    </tr>\n",
       "    <tr>\n",
       "      <th>24842528</th>\n",
       "      <td>220.181.18.12</td>\n",
       "      <td>6191</td>\n",
       "      <td>2011-01-01 00:27:03</td>\n",
       "    </tr>\n",
       "    <tr>\n",
       "      <th>24842567</th>\n",
       "      <td>59.92.105.152</td>\n",
       "      <td>6735</td>\n",
       "      <td>2011-01-01 00:28:20</td>\n",
       "    </tr>\n",
       "  </tbody>\n",
       "</table>\n",
       "</div>"
      ],
      "text/plain": [
       "                      ip  resource id             datetime\n",
       "0                                                         \n",
       "24841894   218.186.11.11         1802  2011-01-01 00:08:59\n",
       "24842019   124.53.229.10         1331  2011-01-01 00:15:11\n",
       "24842310  123.125.67.243         1736  2011-01-01 00:23:14\n",
       "24842528   220.181.18.12         6191  2011-01-01 00:27:03\n",
       "24842567   59.92.105.152         6735  2011-01-01 00:28:20"
      ]
     },
     "execution_count": 8,
     "metadata": {},
     "output_type": "execute_result"
    }
   ],
   "source": [
    "df_no_dups.head(5)"
   ]
  }
 ],
 "metadata": {
  "anaconda-cloud": {},
  "kernelspec": {
   "display_name": "Python [conda root]",
   "language": "python",
   "name": "conda-root-py"
  },
  "language_info": {
   "codemirror_mode": {
    "name": "ipython",
    "version": 3
   },
   "file_extension": ".py",
   "mimetype": "text/x-python",
   "name": "python",
   "nbconvert_exporter": "python",
   "pygments_lexer": "ipython3",
   "version": "3.5.2"
  }
 },
 "nbformat": 4,
 "nbformat_minor": 1
}
