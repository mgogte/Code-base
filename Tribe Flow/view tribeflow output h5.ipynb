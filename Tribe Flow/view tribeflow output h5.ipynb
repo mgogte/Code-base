{
 "cells": [
  {
   "cell_type": "code",
   "execution_count": 1,
   "metadata": {
    "collapsed": false
   },
   "outputs": [],
   "source": [
    "import h5py\n",
    "filename = 'D:/Nanohub/TribeFlow/output_5.h5'\n",
    "f = h5py.File(filename, 'r')"
   ]
  },
  {
   "cell_type": "code",
   "execution_count": 2,
   "metadata": {
    "collapsed": false
   },
   "outputs": [
    {
     "name": "stdout",
     "output_type": "stream",
     "text": [
      "Keys: KeysView(<HDF5 file \"output_5.h5\" (mode r)>)\n"
     ]
    }
   ],
   "source": [
    "\n",
    "\n",
    "# List all groups\n",
    "print(\"Keys: %s\" % f.keys())"
   ]
  },
  {
   "cell_type": "code",
   "execution_count": 18,
   "metadata": {
    "collapsed": false
   },
   "outputs": [
    {
     "name": "stdout",
     "output_type": "stream",
     "text": [
      "Count_sz\n",
      "Count_zh\n",
      "Dts\n",
      "P\n",
      "Psi_sz\n",
      "Theta_zh\n",
      "algorithm\n",
      "alpha_zh\n",
      "assign\n",
      "beta_zs\n",
      "burn_in\n",
      "count_h\n",
      "count_z\n",
      "from_\n",
      "hyper2id\n",
      "kernel_class\n",
      "num_batches\n",
      "num_iter\n",
      "num_topics\n",
      "num_workers\n",
      "residency_priors\n",
      "source2id\n",
      "to\n",
      "trace_fpath\n",
      "training_time\n"
     ]
    }
   ],
   "source": [
    "for name in f:\n",
    "     print (name)"
   ]
  },
  {
   "cell_type": "code",
   "execution_count": 28,
   "metadata": {
    "collapsed": false
   },
   "outputs": [
    {
     "name": "stdout",
     "output_type": "stream",
     "text": [
      "<HDF5 group \"/Count_sz\" (4 members)>\n",
      "<HDF5 group \"/Count_zh\" (4 members)>\n",
      "<HDF5 group \"/Dts\" (4 members)>\n",
      "<HDF5 group \"/P\" (4 members)>\n",
      "<HDF5 group \"/Psi_sz\" (4 members)>\n",
      "<HDF5 group \"/Theta_zh\" (4 members)>\n",
      "<HDF5 group \"/algorithm\" (4 members)>\n",
      "<HDF5 group \"/alpha_zh\" (4 members)>\n",
      "<HDF5 group \"/assign\" (4 members)>\n",
      "<HDF5 group \"/beta_zs\" (4 members)>\n",
      "<HDF5 group \"/burn_in\" (4 members)>\n",
      "<HDF5 group \"/count_h\" (4 members)>\n",
      "<HDF5 group \"/count_z\" (4 members)>\n",
      "<HDF5 group \"/from_\" (4 members)>\n",
      "<HDF5 group \"/hyper2id\" (6 members)>\n",
      "<HDF5 group \"/kernel_class\" (4 members)>\n",
      "<HDF5 group \"/num_batches\" (4 members)>\n",
      "<HDF5 group \"/num_iter\" (4 members)>\n",
      "<HDF5 group \"/num_topics\" (4 members)>\n",
      "<HDF5 group \"/num_workers\" (4 members)>\n",
      "<HDF5 group \"/residency_priors\" (4 members)>\n",
      "<HDF5 group \"/source2id\" (6 members)>\n",
      "<HDF5 group \"/to\" (4 members)>\n",
      "<HDF5 group \"/trace_fpath\" (4 members)>\n",
      "<HDF5 group \"/training_time\" (4 members)>\n"
     ]
    }
   ],
   "source": [
    "for name in f.values():\n",
    "    print(name)"
   ]
  }
 ],
 "metadata": {
  "anaconda-cloud": {},
  "kernelspec": {
   "display_name": "Python [conda env:trisket]",
   "language": "python",
   "name": "conda-env-trisket-py"
  },
  "language_info": {
   "codemirror_mode": {
    "name": "ipython",
    "version": 3
   },
   "file_extension": ".py",
   "mimetype": "text/x-python",
   "name": "python",
   "nbconvert_exporter": "python",
   "pygments_lexer": "ipython3",
   "version": "3.5.2"
  }
 },
 "nbformat": 4,
 "nbformat_minor": 1
}
