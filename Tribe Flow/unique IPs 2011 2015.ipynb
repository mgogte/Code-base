{
 "cells": [
  {
   "cell_type": "code",
   "execution_count": 5,
   "metadata": {
    "collapsed": true
   },
   "outputs": [],
   "source": [
    "import pandas as pd\n",
    "import csv\n",
    "import numpy as np\n",
    "import time \n",
    "from math import radians, cos, sin, asin, sqrt\n",
    "import re, math\n",
    "import matplotlib.pyplot as plt\n",
    "from haversine import haversine\n",
    "from sklearn.metrics.pairwise import cosine_similarity\n",
    "from sklearn.metrics import jaccard_similarity_score\n",
    "%matplotlib inline\n",
    "np.set_printoptions(threshold=np.nan)\n",
    "import warnings\n",
    "warnings.filterwarnings('ignore')"
   ]
  },
  {
   "cell_type": "code",
   "execution_count": 2,
   "metadata": {
    "collapsed": false
   },
   "outputs": [],
   "source": [
    "df_2015 = pd.DataFrame.from_csv('D:/Nanohub/TribeFlow/TF_location_2015.csv', sep ='\\t', encoding = 'UTF-8', header = None)\n",
    "df_2015.columns = ['ip','resource id','datetime','latitude','longitude']"
   ]
  },
  {
   "cell_type": "code",
   "execution_count": 6,
   "metadata": {
    "collapsed": false
   },
   "outputs": [],
   "source": [
    "uniq_ip_2015 = df_2015['ip'].unique()\n",
    "uniq_res_2015 = df_2015['resource id'].unique()"
   ]
  },
  {
   "cell_type": "code",
   "execution_count": 15,
   "metadata": {
    "collapsed": false
   },
   "outputs": [
    {
     "data": {
      "text/plain": [
       "5447"
      ]
     },
     "execution_count": 15,
     "metadata": {},
     "output_type": "execute_result"
    }
   ],
   "source": [
    "len(uniq_ip_2015)"
   ]
  },
  {
   "cell_type": "code",
   "execution_count": 35,
   "metadata": {
    "collapsed": false
   },
   "outputs": [
    {
     "name": "stdout",
     "output_type": "stream",
     "text": [
      "2456\n"
     ]
    }
   ],
   "source": [
    "for x in range(len(uniq_res_2015)):\n",
    "    if(uniq_res_2015[x] == 15054):\n",
    "        print(x)"
   ]
  },
  {
   "cell_type": "code",
   "execution_count": 8,
   "metadata": {
    "collapsed": false
   },
   "outputs": [],
   "source": [
    "sims = np.zeros((len(uniq_res_2015),len(uniq_ip_2015)))\n",
    "for i in range(len(uniq_ip_2015)):\n",
    "    curr =  df_2015[df_2015['ip'] == uniq_ip_2015[i]]\n",
    "    for j in range(len(uniq_res_2015)):\n",
    "        if( uniq_res_2015[j] in curr['resource id'].values):\n",
    "            sims[j][i] = 1\n",
    "        "
   ]
  },
  {
   "cell_type": "code",
   "execution_count": 6,
   "metadata": {
    "collapsed": false
   },
   "outputs": [
    {
     "name": "stdout",
     "output_type": "stream",
     "text": [
      "15539 [15537, 15670, 15540, 15541, 15542, 15046, 15050, 15054]\n"
     ]
    }
   ],
   "source": [
    "j=5\n",
    "simres = []\n",
    "cossim = cosine_similarity(sims[j], sims).flatten()\n",
    "sim_ress = []\n",
    "for i in range(len(cossim)):\n",
    "    if(cossim[i] > 0.5 and cossim[i] < 1):\n",
    "        sim_ress.append(uniq_res_2015[i])\n",
    "print(uniq_res_2015[j],sim_ress)"
   ]
  },
  {
   "cell_type": "code",
   "execution_count": 23,
   "metadata": {
    "collapsed": false
   },
   "outputs": [
    {
     "name": "stdout",
     "output_type": "stream",
     "text": [
      "520 [520, 1557]\n"
     ]
    }
   ],
   "source": [
    "j= 1454\n",
    "cossim = cosine_similarity(sims[j], sims).flatten()\n",
    "sim_ress = []\n",
    "for i in range(len(cossim)):\n",
    "    if(cossim[i] > 0.5 and cossim[i] < 1):\n",
    "        sim_ress.append(uniq_res_2015[i])\n",
    "print(uniq_res_2015[j],sim_ress)"
   ]
  },
  {
   "cell_type": "code",
   "execution_count": null,
   "metadata": {
    "collapsed": false
   },
   "outputs": [],
   "source": [
    "\n",
    "for j in range(100):\n",
    "    count = 0\n",
    "    simres = []\n",
    "    cossim = cosine_similarity(sims[j], sims).flatten()\n",
    "    sim_ress = []\n",
    "    for i in range(len(cossim)):\n",
    "    \n",
    "        if(cossim[i] > 0.5 and cossim[i] < 1):\n",
    "            sim_ress.append(uniq_res_2015[i])\n",
    "    print(uniq_res_2015[j],sim_ress)"
   ]
  },
  {
   "cell_type": "code",
   "execution_count": 11,
   "metadata": {
    "collapsed": false
   },
   "outputs": [
    {
     "data": {
      "text/plain": [
       "'sim_ress = []\\nfor i in range(len(cossim)):\\n    if(cossim[i] > 0.5 and cossim[i] < 1):\\n        sim_ress.append(uniq_res_2015[i])\\nprint(uniq_res_2015[j],sim_ress)'"
      ]
     },
     "execution_count": 11,
     "metadata": {},
     "output_type": "execute_result"
    }
   ],
   "source": [
    "j = 2001\n",
    "\n",
    "simres = []\n",
    "cossim = cosine_similarity(sims[j], sims).flatten()\n",
    "sim_ress = []\n",
    "for i in range(len(cossim)):\n",
    "    if(cossim[i] > 0.5 and cossim[i] < 1):\n",
    "        sim_ress.append(uniq_res_2015[i])\n",
    "print(uniq_res_2015[j],sim_ress)"
   ]
  },
  {
   "cell_type": "code",
   "execution_count": 19,
   "metadata": {
    "collapsed": false
   },
   "outputs": [
    {
     "ename": "IndexError",
     "evalue": "index 16511 is out of bounds for axis 0 with size 4966",
     "output_type": "error",
     "traceback": [
      "\u001b[0;31m---------------------------------------------------------------------------\u001b[0m",
      "\u001b[0;31mIndexError\u001b[0m                                Traceback (most recent call last)",
      "\u001b[0;32m<ipython-input-19-e1e7804c4e50>\u001b[0m in \u001b[0;36m<module>\u001b[0;34m()\u001b[0m\n\u001b[1;32m      2\u001b[0m \u001b[1;33m\u001b[0m\u001b[0m\n\u001b[1;32m      3\u001b[0m \u001b[0msimres\u001b[0m \u001b[1;33m=\u001b[0m \u001b[1;33m[\u001b[0m\u001b[1;33m]\u001b[0m\u001b[1;33m\u001b[0m\u001b[0m\n\u001b[0;32m----> 4\u001b[0;31m \u001b[0mcossim\u001b[0m \u001b[1;33m=\u001b[0m \u001b[0mcosine_similarity\u001b[0m\u001b[1;33m(\u001b[0m\u001b[0msims\u001b[0m\u001b[1;33m[\u001b[0m\u001b[0mj\u001b[0m\u001b[1;33m]\u001b[0m\u001b[1;33m,\u001b[0m \u001b[0msims\u001b[0m\u001b[1;33m)\u001b[0m\u001b[1;33m.\u001b[0m\u001b[0mflatten\u001b[0m\u001b[1;33m(\u001b[0m\u001b[1;33m)\u001b[0m\u001b[1;33m\u001b[0m\u001b[0m\n\u001b[0m\u001b[1;32m      5\u001b[0m \u001b[0msim_ress\u001b[0m \u001b[1;33m=\u001b[0m \u001b[1;33m[\u001b[0m\u001b[1;33m]\u001b[0m\u001b[1;33m\u001b[0m\u001b[0m\n\u001b[1;32m      6\u001b[0m \u001b[1;32mfor\u001b[0m \u001b[0mi\u001b[0m \u001b[1;32min\u001b[0m \u001b[0mrange\u001b[0m\u001b[1;33m(\u001b[0m\u001b[0mlen\u001b[0m\u001b[1;33m(\u001b[0m\u001b[0mcossim\u001b[0m\u001b[1;33m)\u001b[0m\u001b[1;33m)\u001b[0m\u001b[1;33m:\u001b[0m\u001b[1;33m\u001b[0m\u001b[0m\n",
      "\u001b[0;31mIndexError\u001b[0m: index 16511 is out of bounds for axis 0 with size 4966"
     ]
    }
   ],
   "source": [
    "j = 1994\n",
    "\n",
    "simres = []\n",
    "cossim = cosine_similarity(sims[j], sims).flatten()\n",
    "sim_ress = []\n",
    "for i in range(len(cossim)):\n",
    "    if(cossim[i] > 0.5 and cossim[i] < 1):\n",
    "        sim_ress.append(uniq_res_2015[i])\n",
    "print(uniq_res_2015[j],sim_ress)"
   ]
  },
  {
   "cell_type": "code",
   "execution_count": 38,
   "metadata": {
    "collapsed": false
   },
   "outputs": [
    {
     "data": {
      "text/plain": [
       "array([ 1.])"
      ]
     },
     "execution_count": 38,
     "metadata": {},
     "output_type": "execute_result"
    }
   ],
   "source": [
    "cossim = cosine_similarity(sims[2452], sims[2456]).flatten()\n",
    "cossim"
   ]
  },
  {
   "cell_type": "code",
   "execution_count": 39,
   "metadata": {
    "collapsed": false
   },
   "outputs": [
    {
     "data": {
      "text/plain": [
       "1.0"
      ]
     },
     "execution_count": 39,
     "metadata": {},
     "output_type": "execute_result"
    }
   ],
   "source": [
    "jacc_sim = jaccard_similarity_score(sims[2452], sims[2456])\n",
    "jacc_sim"
   ]
  }
 ],
 "metadata": {
  "anaconda-cloud": {},
  "kernelspec": {
   "display_name": "Python [conda root]",
   "language": "python",
   "name": "conda-root-py"
  },
  "language_info": {
   "codemirror_mode": {
    "name": "ipython",
    "version": 3
   },
   "file_extension": ".py",
   "mimetype": "text/x-python",
   "name": "python",
   "nbconvert_exporter": "python",
   "pygments_lexer": "ipython3",
   "version": "3.5.2"
  }
 },
 "nbformat": 4,
 "nbformat_minor": 1
}
