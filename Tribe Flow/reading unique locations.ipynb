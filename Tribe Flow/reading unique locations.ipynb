{
 "cells": [
  {
   "cell_type": "code",
   "execution_count": 1,
   "metadata": {
    "collapsed": true
   },
   "outputs": [],
   "source": [
    "\n",
    "\n",
    "df = pd.DataFrame.from_csv('D:/Nanohub/TribeFlow/TF_location_2015.csv', sep ='\\t', encoding = 'UTF-8', header = None)\n",
    "df.columns = ['ip','resource id','datetime','latitude','longitude']"
   ]
  },
  {
   "cell_type": "code",
   "execution_count": 37,
   "metadata": {
    "collapsed": true
   },
   "outputs": [],
   "source": [
    "import pandas as pd\n",
    "import csv\n",
    "import numpy \n",
    "import time \n",
    "from math import radians, cos, sin, asin, sqrt\n",
    "import re, math\n",
    "import matplotlib.pyplot as plt\n",
    "%matplotlib inline"
   ]
  },
  {
   "cell_type": "code",
   "execution_count": 3,
   "metadata": {
    "collapsed": false
   },
   "outputs": [
    {
     "data": {
      "text/plain": [
       "30917"
      ]
     },
     "execution_count": 3,
     "metadata": {},
     "output_type": "execute_result"
    }
   ],
   "source": [
    "len(df)"
   ]
  },
  {
   "cell_type": "code",
   "execution_count": 4,
   "metadata": {
    "collapsed": true
   },
   "outputs": [],
   "source": [
    "df_unique_ip = df.drop_duplicates(subset = 'ip', keep = 'first')"
   ]
  },
  {
   "cell_type": "code",
   "execution_count": 9,
   "metadata": {
    "collapsed": false
   },
   "outputs": [
    {
     "data": {
      "text/plain": [
       "5329"
      ]
     },
     "execution_count": 9,
     "metadata": {},
     "output_type": "execute_result"
    }
   ],
   "source": [
    "len(df_unique_ip)"
   ]
  },
  {
   "cell_type": "code",
   "execution_count": 24,
   "metadata": {
    "collapsed": false
   },
   "outputs": [
    {
     "data": {
      "text/html": [
       "<div>\n",
       "<table border=\"1\" class=\"dataframe\">\n",
       "  <thead>\n",
       "    <tr style=\"text-align: right;\">\n",
       "      <th></th>\n",
       "      <th>ip</th>\n",
       "      <th>resource id</th>\n",
       "      <th>datetime</th>\n",
       "      <th>latitude</th>\n",
       "      <th>longitude</th>\n",
       "    </tr>\n",
       "    <tr>\n",
       "      <th>0</th>\n",
       "      <th></th>\n",
       "      <th></th>\n",
       "      <th></th>\n",
       "      <th></th>\n",
       "      <th></th>\n",
       "    </tr>\n",
       "  </thead>\n",
       "  <tbody>\n",
       "    <tr>\n",
       "      <th>392286637</th>\n",
       "      <td>128.211.253.139</td>\n",
       "      <td>15571</td>\n",
       "      <td>2015-01-01 00:07:42</td>\n",
       "      <td>40.4427</td>\n",
       "      <td>-86.9237</td>\n",
       "    </tr>\n",
       "    <tr>\n",
       "      <th>392291139</th>\n",
       "      <td>203.130.209.9</td>\n",
       "      <td>9600</td>\n",
       "      <td>2015-01-01 01:05:45</td>\n",
       "      <td>-6.1670</td>\n",
       "      <td>106.8000</td>\n",
       "    </tr>\n",
       "    <tr>\n",
       "      <th>392534409</th>\n",
       "      <td>202.170.51.254</td>\n",
       "      <td>5548</td>\n",
       "      <td>2015-01-01 02:10:50</td>\n",
       "      <td>5.4170</td>\n",
       "      <td>100.3330</td>\n",
       "    </tr>\n",
       "    <tr>\n",
       "      <th>393196883</th>\n",
       "      <td>196.219.203.100</td>\n",
       "      <td>6549</td>\n",
       "      <td>2015-01-01 06:17:55</td>\n",
       "      <td>-20.1689</td>\n",
       "      <td>57.5133</td>\n",
       "    </tr>\n",
       "    <tr>\n",
       "      <th>393205027</th>\n",
       "      <td>193.227.49.2</td>\n",
       "      <td>4186</td>\n",
       "      <td>2015-01-01 07:45:31</td>\n",
       "      <td>30.0500</td>\n",
       "      <td>31.2500</td>\n",
       "    </tr>\n",
       "  </tbody>\n",
       "</table>\n",
       "</div>"
      ],
      "text/plain": [
       "                        ip  resource id             datetime  latitude  \\\n",
       "0                                                                        \n",
       "392286637  128.211.253.139        15571  2015-01-01 00:07:42   40.4427   \n",
       "392291139    203.130.209.9         9600  2015-01-01 01:05:45   -6.1670   \n",
       "392534409   202.170.51.254         5548  2015-01-01 02:10:50    5.4170   \n",
       "393196883  196.219.203.100         6549  2015-01-01 06:17:55  -20.1689   \n",
       "393205027     193.227.49.2         4186  2015-01-01 07:45:31   30.0500   \n",
       "\n",
       "           longitude  \n",
       "0                     \n",
       "392286637   -86.9237  \n",
       "392291139   106.8000  \n",
       "392534409   100.3330  \n",
       "393196883    57.5133  \n",
       "393205027    31.2500  "
      ]
     },
     "execution_count": 24,
     "metadata": {},
     "output_type": "execute_result"
    }
   ],
   "source": [
    "df_unique_ip = df_unique_ip[df_unique_ip['latitude'] != 0.0000]\n",
    "df_unique_ip.head(5)"
   ]
  },
  {
   "cell_type": "code",
   "execution_count": 26,
   "metadata": {
    "collapsed": false
   },
   "outputs": [],
   "source": [
    "long_dist = []\n",
    "lat_dist = []\n",
    "for index,row in df_unique_ip.iterrows():\n",
    "    lat_dist.append(row['latitude'])\n",
    "    long_dist.append(row['longitude'])"
   ]
  },
  {
   "cell_type": "code",
   "execution_count": 30,
   "metadata": {
    "collapsed": false
   },
   "outputs": [
    {
     "name": "stdout",
     "output_type": "stream",
     "text": [
      "5329 5329\n"
     ]
    },
    {
     "data": {
      "text/plain": [
       "48.8542"
      ]
     },
     "execution_count": 30,
     "metadata": {},
     "output_type": "execute_result"
    }
   ],
   "source": [
    "print (len(long_dist) , len(lat_dist))\n",
    "lat_dist[8+1]"
   ]
  },
  {
   "cell_type": "code",
   "execution_count": 34,
   "metadata": {
    "collapsed": true
   },
   "outputs": [],
   "source": [
    "def haversine(lon1, lat1, lon2, lat2):\n",
    "    \"\"\"\n",
    "    Calculate the great circle distance between two points \n",
    "    on the earth (specified in decimal degrees) returned as kilometers \n",
    "    \"\"\"\n",
    "    # convert decimal degrees to radians \n",
    "    lon1, lat1, lon2, lat2 = map(radians, [lon1, lat1, lon2, lat2])\n",
    "    # haversine formula \n",
    "    dlon = lon2 - lon1 \n",
    "    dlat = lat2 - lat1 \n",
    "    a = sin(dlat/2)**2 + cos(lat1) * cos(lat2) * sin(dlon/2)**2\n",
    "    c = 2 * asin(sqrt(a)) \n",
    "    km = 6367 * c\n",
    "    return km"
   ]
  },
  {
   "cell_type": "code",
   "execution_count": 49,
   "metadata": {
    "collapsed": false
   },
   "outputs": [],
   "source": [
    "ip_dist = []\n",
    "for i in range(len(long_dist)):\n",
    "    for j in range(i+1 , len(long_dist)):\n",
    "        ip_dist.append(haversine(long_dist[j],long_dist[i],lat_dist[j],lat_dist[i]))"
   ]
  },
  {
   "cell_type": "code",
   "execution_count": 48,
   "metadata": {
    "collapsed": false
   },
   "outputs": [
    {
     "data": {
      "text/plain": [
       "<matplotlib.text.Text at 0x1e280099f28>"
      ]
     },
     "execution_count": 48,
     "metadata": {},
     "output_type": "execute_result"
    },
    {
     "data": {
      "image/png": "[encoded data removed]",
      "text/plain": [
       "<matplotlib.figure.Figure at 0x1e280060e80>"
      ]
     },
     "metadata": {},
     "output_type": "display_data"
    }
   ],
   "source": [
    "plt.hist(ip_dist,100)\n",
    "plt.xlabel('distance between unique IPs in kilometers')\n",
    "plt.ylabel('number of records')"
   ]
  },
  {
   "cell_type": "code",
   "execution_count": 43,
   "metadata": {
    "collapsed": false
   },
   "outputs": [
    {
     "data": {
      "text/plain": [
       "19946.617219378797"
      ]
     },
     "execution_count": 43,
     "metadata": {},
     "output_type": "execute_result"
    }
   ],
   "source": [
    "numpy.mean(ip_dist)\n",
    "numpy.max(ip_dist)"
   ]
  }
 ],
 "metadata": {
  "anaconda-cloud": {},
  "kernelspec": {
   "display_name": "Python [default]",
   "language": "python",
   "name": "python3"
  },
  "language_info": {
   "codemirror_mode": {
    "name": "ipython",
    "version": 3
   },
   "file_extension": ".py",
   "mimetype": "text/x-python",
   "name": "python",
   "nbconvert_exporter": "python",
   "pygments_lexer": "ipython3",
   "version": "3.5.2"
  }
 },
 "nbformat": 4,
 "nbformat_minor": 1
}
