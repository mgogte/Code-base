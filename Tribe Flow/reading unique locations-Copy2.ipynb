{
 "cells": [
  {
   "cell_type": "code",
   "execution_count": null,
   "metadata": {
    "collapsed": true
   },
   "outputs": [],
   "source": [
    "import pandas as pd\n",
    "import csv\n",
    "import numpy \n",
    "import time \n",
    "from math import radians, cos, sin, asin, sqrt\n",
    "import re, math\n",
    "import matplotlib.pyplot as plt\n",
    "%matplotlib inline"
   ]
  },
  {
   "cell_type": "code",
   "execution_count": null,
   "metadata": {
    "collapsed": false
   },
   "outputs": [],
   "source": [
    "\n",
    "\n",
    "df = pd.DataFrame.from_csv('D:/Nanohub/TribeFlow/TF_location_2015.csv', sep ='\\t', encoding = 'UTF-8', header = None)\n",
    "df.columns = ['ip','resource id','datetime','latitude','longitude']"
   ]
  },
  {
   "cell_type": "code",
   "execution_count": null,
   "metadata": {
    "collapsed": true
   },
   "outputs": [],
   "source": [
    "df_unique_ip = df.drop_duplicates(subset = 'ip', keep = 'first')"
   ]
  },
  {
   "cell_type": "code",
   "execution_count": null,
   "metadata": {
    "collapsed": false
   },
   "outputs": [],
   "source": [
    "df_unique_ip"
   ]
  },
  {
   "cell_type": "code",
   "execution_count": 30,
   "metadata": {
    "collapsed": false
   },
   "outputs": [
    {
     "name": "stdout",
     "output_type": "stream",
     "text": [
      "29529 5329\n"
     ]
    }
   ],
   "source": [
    "print(len(df) , len(df_unique_ip))"
   ]
  },
  {
   "cell_type": "code",
   "execution_count": 31,
   "metadata": {
    "collapsed": false
   },
   "outputs": [],
   "source": [
    "long_dist = []\n",
    "lat_dist = []\n",
    "for index,row in df.iterrows():\n",
    "    lat_dist.append(row['latitude'])\n",
    "    long_dist.append(row['longitude'])"
   ]
  },
  {
   "cell_type": "code",
   "execution_count": 32,
   "metadata": {
    "collapsed": false
   },
   "outputs": [
    {
     "name": "stdout",
     "output_type": "stream",
     "text": [
      "29529\n"
     ]
    }
   ],
   "source": [
    "print (len(long_dist))"
   ]
  },
  {
   "cell_type": "code",
   "execution_count": 33,
   "metadata": {
    "collapsed": true
   },
   "outputs": [],
   "source": [
    "def haversine(lon1, lat1, lon2, lat2):\n",
    "    \"\"\"\n",
    "    Calculate the great circle distance between two points \n",
    "    on the earth (specified in decimal degrees) returned as kilometers \n",
    "    \"\"\"\n",
    "    # convert decimal degrees to radians \n",
    "    lon1, lat1, lon2, lat2 = map(radians, [lon1, lat1, lon2, lat2])\n",
    "    # haversine formula \n",
    "    dlon = lon2 - lon1 \n",
    "    dlat = lat2 - lat1 \n",
    "    a = sin(dlat/2)**2 + cos(lat1) * cos(lat2) * sin(dlon/2)**2\n",
    "    c = 2 * asin(sqrt(a)) \n",
    "    km = 6367 * c\n",
    "    return km"
   ]
  },
  {
   "cell_type": "code",
   "execution_count": 75,
   "metadata": {
    "collapsed": false
   },
   "outputs": [
    {
     "data": {
      "text/plain": [
       "0.0"
      ]
     },
     "execution_count": 75,
     "metadata": {},
     "output_type": "execute_result"
    }
   ],
   "source": [
    "haversine(-86.9237,40.4427,-86.9237, 40.4427)"
   ]
  },
  {
   "cell_type": "code",
   "execution_count": 34,
   "metadata": {
    "collapsed": false
   },
   "outputs": [
    {
     "data": {
      "text/plain": [
       "(array([   23.,  3472.,   248.,  1351.,    62.,   229.,  1869.,   345.,\n",
       "         1607.,   911.,   796.,  1587.,  2807.,  3468.,  1486.,   917.,\n",
       "          488.,  6125.,  1126.,   611.]),\n",
       " array([  3596.34426458,   4231.35984367,   4866.37542275,   5501.39100184,\n",
       "          6136.40658092,   6771.42216   ,   7406.43773909,   8041.45331817,\n",
       "          8676.46889726,   9311.48447634,   9946.50005542,  10581.51563451,\n",
       "         11216.53121359,  11851.54679268,  12486.56237176,  13121.57795084,\n",
       "         13756.59352993,  14391.60910901,  15026.6246881 ,  15661.64026718,\n",
       "         16296.65584626]),\n",
       " <a list of 20 Patch objects>)"
      ]
     },
     "execution_count": 34,
     "metadata": {},
     "output_type": "execute_result"
    },
    {
     "data": {
      "image/png": "[encoded data removed]",
      "text/plain": [
       "<matplotlib.figure.Figure at 0x140a47da390>"
      ]
     },
     "metadata": {},
     "output_type": "display_data"
    }
   ],
   "source": [
    "ip_dist = []\n",
    "for i in range(1,len(long_dist)):\n",
    "    ip_dist.append(haversine(long_dist[0],long_dist[i],lat_dist[0],lat_dist[i]))\n",
    "plt.hist(ip_dist,20)"
   ]
  },
  {
   "cell_type": "code",
   "execution_count": null,
   "metadata": {
    "collapsed": false
   },
   "outputs": [],
   "source": []
  },
  {
   "cell_type": "code",
   "execution_count": null,
   "metadata": {
    "collapsed": false
   },
   "outputs": [],
   "source": [
    "print(numpy.mean(ip_dist))\n",
    "print(numpy.max(ip_dist))"
   ]
  },
  {
   "cell_type": "code",
   "execution_count": 28,
   "metadata": {
    "collapsed": false
   },
   "outputs": [
    {
     "data": {
      "text/plain": [
       "(array([   23.,  3472.,   248.,  1351.,    62.,   229.,  1869.,   345.,\n",
       "         1607.,   911.,   796.,  1587.,  2807.,  3468.,  1486.,   917.,\n",
       "          488.,  6125.,  1126.,   611.]),\n",
       " array([  3596.34426458,   4231.35984367,   4866.37542275,   5501.39100184,\n",
       "          6136.40658092,   6771.42216   ,   7406.43773909,   8041.45331817,\n",
       "          8676.46889726,   9311.48447634,   9946.50005542,  10581.51563451,\n",
       "         11216.53121359,  11851.54679268,  12486.56237176,  13121.57795084,\n",
       "         13756.59352993,  14391.60910901,  15026.6246881 ,  15661.64026718,\n",
       "         16296.65584626]),\n",
       " <a list of 20 Patch objects>)"
      ]
     },
     "execution_count": 28,
     "metadata": {},
     "output_type": "execute_result"
    },
    {
     "data": {
      "image/png": "[encoded data removed]",
      "text/plain": [
       "<matplotlib.figure.Figure at 0x140a479eef0>"
      ]
     },
     "metadata": {},
     "output_type": "display_data"
    }
   ],
   "source": [
    "ip_dist = []\n",
    "for i in range(len(long_dist)):\n",
    "    if i != 1:\n",
    "        ip_dist.append(haversine(long_dist[1],long_dist[i],lat_dist[1],lat_dist[i]))\n",
    "plt.hist(ip_dist,20)"
   ]
  },
  {
   "cell_type": "code",
   "execution_count": null,
   "metadata": {
    "collapsed": false
   },
   "outputs": [],
   "source": [
    "print(numpy.mean(ip_dist))\n",
    "print(numpy.max(ip_dist))"
   ]
  },
  {
   "cell_type": "code",
   "execution_count": 77,
   "metadata": {
    "collapsed": false
   },
   "outputs": [
    {
     "name": "stdout",
     "output_type": "stream",
     "text": [
      "-86.9237 40.4427\n",
      "127.0 37.567\n",
      "4341.126264501832\n"
     ]
    },
    {
     "data": {
      "text/plain": [
       "'\\n\\nfor i in range(len(long_dist)):\\n     \\n     #if hav<4000:\\n     ip_dist.append(hav)\\nplt.hist(ip_dist,10)\\nprint(numpy.mean(ip_dist))\\nprint(numpy.min(ip_dist))'"
      ]
     },
     "execution_count": 77,
     "metadata": {},
     "output_type": "execute_result"
    }
   ],
   "source": [
    "ip_dist = []\n",
    "k = 4250\n",
    "j = 1760\n",
    "print(long_dist[k],lat_dist[k])\n",
    "print(long_dist[j],lat_dist[j])\n",
    "hav = haversine(long_dist[k],long_dist[j],lat_dist[k],lat_dist[j])\n",
    "print(hav)\n",
    "\n",
    "'''\n",
    "\n",
    "for i in range(len(long_dist)):\n",
    "     \n",
    "     #if hav<4000:\n",
    "     ip_dist.append(hav)\n",
    "plt.hist(ip_dist,10)\n",
    "print(numpy.mean(ip_dist))\n",
    "print(numpy.min(ip_dist))'''"
   ]
  }
 ],
 "metadata": {
  "anaconda-cloud": {},
  "kernelspec": {
   "display_name": "Python [default]",
   "language": "python",
   "name": "python3"
  },
  "language_info": {
   "codemirror_mode": {
    "name": "ipython",
    "version": 3
   },
   "file_extension": ".py",
   "mimetype": "text/x-python",
   "name": "python",
   "nbconvert_exporter": "python",
   "pygments_lexer": "ipython3",
   "version": "3.5.2"
  }
 },
 "nbformat": 4,
 "nbformat_minor": 1
}
