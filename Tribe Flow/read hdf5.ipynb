{
 "cells": [
  {
   "cell_type": "code",
   "execution_count": 3,
   "metadata": {
    "collapsed": false
   },
   "outputs": [
    {
     "data": {
      "text/plain": [
       "['/Count_sz',\n",
       " '/Count_zh',\n",
       " '/Dts',\n",
       " '/P',\n",
       " '/Psi_sz',\n",
       " '/Theta_zh',\n",
       " '/algorithm',\n",
       " '/alpha_zh',\n",
       " '/assign',\n",
       " '/beta_zs',\n",
       " '/burn_in',\n",
       " '/count_h',\n",
       " '/count_z',\n",
       " '/from_',\n",
       " '/hyper2id',\n",
       " '/kernel_class',\n",
       " '/num_iter',\n",
       " '/num_topics',\n",
       " '/num_workers',\n",
       " '/residency_priors',\n",
       " '/source2id',\n",
       " '/to',\n",
       " '/trace_fpath',\n",
       " '/training_time']"
      ]
     },
     "execution_count": 3,
     "metadata": {},
     "output_type": "execute_result"
    }
   ],
   "source": [
    "import pandas\n",
    "\n",
    "store = pandas.HDFStore('D:/Nanohub/TribeFlow/output.h5')\n",
    "store.keys()"
   ]
  }
 ],
 "metadata": {
  "anaconda-cloud": {},
  "kernelspec": {
   "display_name": "Python [conda root]",
   "language": "python",
   "name": "conda-root-py"
  },
  "language_info": {
   "codemirror_mode": {
    "name": "ipython",
    "version": 3
   },
   "file_extension": ".py",
   "mimetype": "text/x-python",
   "name": "python",
   "nbconvert_exporter": "python",
   "pygments_lexer": "ipython3",
   "version": "3.5.2"
  }
 },
 "nbformat": 4,
 "nbformat_minor": 1
}
