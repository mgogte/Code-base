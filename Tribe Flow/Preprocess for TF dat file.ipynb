{
 "cells": [
  {
   "cell_type": "code",
   "execution_count": 107,
   "metadata": {
    "collapsed": false
   },
   "outputs": [],
   "source": [
    "import pandas as pd\n",
    "import csv\n",
    "import numpy \n",
    "import time \n",
    "from math import radians, cos, sin, asin, sqrt\n",
    "import re, math\n",
    "import matplotlib.pyplot as plt\n",
    "from haversine import haversine\n"
   ]
  },
  {
   "cell_type": "code",
   "execution_count": 108,
   "metadata": {
    "collapsed": true
   },
   "outputs": [],
   "source": [
    "df = pd.DataFrame.from_csv('D:/Nanohub/TribeFlow/in_STDB_2015_5.csv', sep ='\\t', encoding = 'UTF-8', header = None, index_col = False)\n",
    "df.columns = ['id','ip','resource id','datetime','latitude','longitude']"
   ]
  },
  {
   "cell_type": "code",
   "execution_count": 113,
   "metadata": {
    "collapsed": false
   },
   "outputs": [],
   "source": [
    "df = df[df['longitude'] != 0]"
   ]
  },
  {
   "cell_type": "code",
   "execution_count": 114,
   "metadata": {
    "collapsed": true
   },
   "outputs": [],
   "source": [
    "%matplotlib inline\n",
    "\n",
    "df['datetime'] = pd.to_datetime(df['datetime'], format = '%Y-%m-%d %H:%M:%S')#infer_datetime_format =True)\n",
    "#http://stackoverflow.com/questions/19463985/pandas-drop-consecutive-duplicates\n",
    "cols = [\"ip\",\"resource id\"]\n",
    "de_dup = df.loc[(df[cols].shift() != df[cols]).any(axis=1)]\n",
    "de_dup.to_csv('D:/Nanohub/TribeFlow/pr_STDB_5.csv',sep = '\\t', date_format ='%Y-%m-%d %H:%M:%S')"
   ]
  },
  {
   "cell_type": "code",
   "execution_count": null,
   "metadata": {
    "collapsed": false
   },
   "outputs": [],
   "source": [
    "####Testing below\n",
    "df1 = df[df['ip'] == '192.91.75.29']\n",
    "df2 = df1[df1['datetime'] < '2010-07-20' ]\n",
    "(df2[df2['datetime'] > '2010-07-18']).size\n",
    "df2[df2['datetime'] > '2010-07-18']\n",
    "\n",
    "###\n",
    "df3 = de_dup[de_dup['ip'] == '192.91.75.29']\n",
    "df4 = df3[df3['datetime'] < '2010-07-20' ]\n",
    "(df4[df4['datetime'] > '2010-07-18']).size\n",
    "df4[df4['datetime'] > '2010-07-18']"
   ]
  }
 ],
 "metadata": {
  "anaconda-cloud": {},
  "kernelspec": {
   "display_name": "Python [conda root]",
   "language": "python",
   "name": "conda-root-py"
  },
  "language_info": {
   "codemirror_mode": {
    "name": "ipython",
    "version": 3
   },
   "file_extension": ".py",
   "mimetype": "text/x-python",
   "name": "python",
   "nbconvert_exporter": "python",
   "pygments_lexer": "ipython3",
   "version": "3.5.2"
  }
 },
 "nbformat": 4,
 "nbformat_minor": 1
}
