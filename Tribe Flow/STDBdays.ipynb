{
 "cells": [
  {
   "cell_type": "code",
   "execution_count": 2,
   "metadata": {
    "collapsed": true
   },
   "outputs": [],
   "source": [
    "import pandas as pd\n",
    "import csv\n"
   ]
  },
  {
   "cell_type": "code",
   "execution_count": 4,
   "metadata": {
    "collapsed": true
   },
   "outputs": [],
   "source": [
    "df = pd.DataFrame.from_csv('D:/Nanohub/TribeFlow/in_STDB_2015.csv', sep ='\\t', encoding = 'UTF-8', header = None)\n",
    "df.columns = ['ip','resource id','datetime','latitude','longitude']\n",
    "df_no_dups = df.drop_duplicates(subset = ['ip','resource id'], keep = 'first')"
   ]
  },
  {
   "cell_type": "code",
   "execution_count": 17,
   "metadata": {
    "collapsed": false
   },
   "outputs": [
    {
     "name": "stdout",
     "output_type": "stream",
     "text": [
      "30917\n"
     ]
    }
   ],
   "source": [
    "print (len(df))"
   ]
  },
  {
   "cell_type": "code",
   "execution_count": 15,
   "metadata": {
    "collapsed": false
   },
   "outputs": [
    {
     "name": "stdout",
     "output_type": "stream",
     "text": [
      "5447\n"
     ]
    }
   ],
   "source": [
    "print (len(df['ip'].unique()))"
   ]
  },
  {
   "cell_type": "code",
   "execution_count": 19,
   "metadata": {
    "collapsed": false
   },
   "outputs": [
    {
     "name": "stdout",
     "output_type": "stream",
     "text": [
      "4966\n"
     ]
    }
   ],
   "source": [
    "print (len(df['resource id'].unique()))"
   ]
  },
  {
   "cell_type": "code",
   "execution_count": null,
   "metadata": {
    "collapsed": true
   },
   "outputs": [],
   "source": [
    "df_filtered = df[df['resource id'] == 15573]\n"
   ]
  },
  {
   "cell_type": "code",
   "execution_count": 21,
   "metadata": {
    "collapsed": false
   },
   "outputs": [
    {
     "ename": "SyntaxError",
     "evalue": "'return' outside function (<ipython-input-21-f3a7d0506a99>, line 3)",
     "output_type": "error",
     "traceback": [
      "\u001b[0;36m  File \u001b[0;32m\"<ipython-input-21-f3a7d0506a99>\"\u001b[0;36m, line \u001b[0;32m3\u001b[0m\n\u001b[0;31m    return df_filtered\u001b[0m\n\u001b[0m                      ^\u001b[0m\n\u001b[0;31mSyntaxError\u001b[0m\u001b[0;31m:\u001b[0m 'return' outside function\n"
     ]
    }
   ],
   "source": [
    "def fetchData(res_id, year):\n",
    "        df_filtered = df[df['resource id'] == 15571]\n",
    "        \n",
    "return "
   ]
  },
  {
   "cell_type": "code",
   "execution_count": null,
   "metadata": {
    "collapsed": true
   },
   "outputs": [],
   "source": [
    "\n",
    "def haversine(lon1, lat1, lon2, lat2):\n",
    "    \"\"\"\n",
    "    Calculate the great circle distance between two points \n",
    "    on the earth (specified in decimal degrees) returned as kilometers \n",
    "    \"\"\"\n",
    "    # convert decimal degrees to radians \n",
    "    lon1, lat1, lon2, lat2 = map(radians, [lon1, lat1, lon2, lat2])\n",
    "    # haversine formula \n",
    "    dlon = lon2 - lon1 \n",
    "    dlat = lat2 - lat1 \n",
    "    a = sin(dlat/2)**2 + cos(lat1) * cos(lat2) * sin(dlon/2)**2\n",
    "    c = 2 * asin(sqrt(a)) \n",
    "    km = 6367 * c\n",
    "    return km\n",
    "\n",
    "\n",
    "\n",
    "def ST_DBSCAN(points,max_distance,MinPts,dayRadius):\n",
    "    global visited\n",
    "    visited = []\n",
    "    noise = []\n",
    "    c_neighbors = []\n",
    "    cluster_id = 0\n",
    "    clusters = []\n",
    "    in_cluster = []\n",
    "\t\n",
    "    for p in points: \n",
    "        if p not in visited:\n",
    "            # neighbor_points = []\n",
    "            visited.append(p)\n",
    "            NeighborPts = regionQuery(p,points,max_distance,dayRadius)\n",
    "            if len(NeighborPts) < MinPts:\n",
    "                noise.append(p)\n",
    "            else:\n",
    "                cluster_id = cluster_id + 1\n",
    "                g = expandCluster(p,NeighborPts,max_distance,MinPts,in_cluster,cluster_id)\n",
    "                clusters.append(g)\n",
    "                c_neighbors=NeighborPts+[cluster_id]\n",
    "                print c_neighbors\n",
    "                #c_neighbors.append(g)\n",
    "    return clusters, c_neighbors\n",
    "\n",
    "#return len(NeighborPts)\n",
    "\n",
    "def expandCluster(p,NeighborPts,max_distance,MinPts,in_cluster,cluster_id):\n",
    "    in_cluster.append(p)\n",
    "    cluster = []\n",
    "    t_p = list(p) + [cluster_id]\n",
    "    cluster.append(t_p)\n",
    "    for point in NeighborPts:\n",
    "        if point not in visited:\n",
    "            visited.append(point)\n",
    "            new_neighbors = regionQuery(point,points,max_distance,dayRadius)\n",
    "            if len(new_neighbors) >= MinPts: \n",
    "                new_neighbors.append(NeighborPts)\n",
    "            if point not in in_cluster:\n",
    "                 t_point = list(point) + [cluster_id]\n",
    "                 in_cluster.append(point)\n",
    "                 cluster.append(t_point)\n",
    "    return cluster\n",
    "\n",
    "\n",
    "def regionQuery(p,points,max_distance,dayRadius):\n",
    "    neighbor_points = []\n",
    "    for j in points:\n",
    "        if j != p:\n",
    "           # print 'P is %s and j is %s' % (p[0],j[0])\n",
    "            dist = haversine(p[0],p[1],j[0],j[1])\n",
    "            if dist <= max_distance:\n",
    "\t\t\t\tif abs(p[2]-j[2]) < dayRadius: \n",
    "\t\t\t\t\tneighbor_points.append(j)\n",
    "    neighbor_points.append(p) \n",
    "    return neighbor_points   \n",
    "\n",
    "\n",
    "with open('parent_id_child_id.csv', 'r') as reading:\n",
    "  reader = csv.reader(reading)\n",
    "  parent_id_arr = list(reader)\n",
    "\n",
    "year = 2015 #input('please enter the year for clustering : ')\n",
    "MinPts = 5\n",
    "max_distance = 25\n",
    "dayRadius = 10\n",
    "\n",
    "#testing for parent id 8\n",
    "points = fetchData(8, year)\n",
    "print 'points:',points\n",
    "if not points:\n",
    "    print parent_id\n",
    "else:\n",
    "\tcfile = '/home/nanohub/mugdha2608/Geolocation/Test1/EX'+str(year)+'core' + str(parent_id)+'.csv'\n",
    "\tnfile = '/home/nanohub/mugdha2608/Geolocation/Test1/trial1'+str(year)+'neigh' + str(parent_id)+'.csv'\n",
    "\t\t\n",
    "\t#calling ST_DBSCAN\n",
    "\tcorei,neighi = ST_DBSCAN(points,max_distance,MinPts,dayRadius)\n",
    "\t\n",
    "\twith open(cfile, 'w') as f:\n",
    "\t\twriter = csv.writer(f)\n",
    "\t\tfor i,val in enumerate(corei):\n",
    "\t\t\tfor j,val2 in enumerate(val):\n",
    "\t\t\t\twriter.writerow(val2)\n",
    "\twith open(nfile, 'w') as k:\n",
    "\t\twriter = csv.writer(k)\n",
    "\t\tfor i,val in enumerate(corei):\n",
    "\t\t\tfor j,val2 in enumerate(val):\n",
    "\t\t\t\twriter.writerow(val2)\n"
   ]
  }
 ],
 "metadata": {
  "anaconda-cloud": {},
  "kernelspec": {
   "display_name": "Python [default]",
   "language": "python",
   "name": "python3"
  },
  "language_info": {
   "codemirror_mode": {
    "name": "ipython",
    "version": 3
   },
   "file_extension": ".py",
   "mimetype": "text/x-python",
   "name": "python",
   "nbconvert_exporter": "python",
   "pygments_lexer": "ipython3",
   "version": "3.5.2"
  }
 },
 "nbformat": 4,
 "nbformat_minor": 1
}
