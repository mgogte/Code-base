{
 "cells": [
  {
   "cell_type": "code",
   "execution_count": 2,
   "metadata": {
    "collapsed": false
   },
   "outputs": [],
   "source": [
    "#1\n",
    "#%matplotlib inline\n",
    "%matplotlib notebook\n",
    "from sklearn.utils import shuffle\n",
    "import pandas as pd\n",
    "import csv\n",
    "import numpy as np\n",
    "import time \n",
    "from math import radians, cos, sin, asin, sqrt\n",
    "import re, math\n",
    "# for database operations\n",
    "import sys\n",
    "import csv\n",
    "import pandas as pd\n",
    "#from haversine import haversine\n",
    "import datetime\n",
    "import matplotlib.pyplot as plt\n",
    "import pylab as pl\n",
    "from mpl_toolkits.mplot3d import Axes3D\n",
    "from sklearn.metrics import jaccard_similarity_score "
   ]
  },
  {
   "cell_type": "code",
   "execution_count": null,
   "metadata": {
    "collapsed": true
   },
   "outputs": [],
   "source": [
    "#6 similarity matrix\n",
    "from pathlib import Path\n",
    "\n",
    "\n",
    "for k in range(len(uniq_res_2015)):\n",
    "    fstr = Path('D:/Nanohub/results/GIS6/' + str(uniq_res_2015[k]) + '.csv')\n",
    "    if fstr.is_file():\n",
    "        df_open = pd.DataFrame.from_csv(fstr, sep =',', encoding = 'UTF-8', header = None)\n",
    "        df_open.columns = ['longitude','DOY','resource_id','ip','cluster_id']\n",
    "        ips_of_file = df_open['ip'].unique()\n",
    "        ips_of_file.sort()\n",
    "        if len(df_open) > 0:\n",
    "            for j in range(len(ips_of_file)):\n",
    "                for i in range(len(uniq_ip_2015)):\n",
    "                    if ips_of_file[j] == uniq_ip_2015[i]:\n",
    "                        sims[k][i] = 1\n",
    "        "
   ]
  }
 ],
 "metadata": {
  "kernelspec": {
   "display_name": "Python [conda env:trisket]",
   "language": "python",
   "name": "conda-env-trisket-py"
  },
  "language_info": {
   "codemirror_mode": {
    "name": "ipython",
    "version": 3
   },
   "file_extension": ".py",
   "mimetype": "text/x-python",
   "name": "python",
   "nbconvert_exporter": "python",
   "pygments_lexer": "ipython3",
   "version": "3.5.2"
  }
 },
 "nbformat": 4,
 "nbformat_minor": 1
}
