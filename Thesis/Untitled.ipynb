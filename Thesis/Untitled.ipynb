{
 "cells": [
  {
   "cell_type": "code",
   "execution_count": 3,
   "metadata": {
    "collapsed": true
   },
   "outputs": [],
   "source": [
    "#1\n",
    "%matplotlib inline\n",
    "import pandas as pd\n",
    "import csv\n",
    "import numpy as np\n",
    "import time \n",
    "import datetime\n",
    "import matplotlib.pyplot as plt\n",
    "import pylab as pl"
   ]
  },
  {
   "cell_type": "code",
   "execution_count": 8,
   "metadata": {
    "collapsed": false
   },
   "outputs": [],
   "source": [
    "#2 creating input dataframe\n",
    "max_distance = 80\n",
    "MaxPts = 10\n",
    "dayRadius = 10\n",
    "\n",
    "df = pd.DataFrame.from_csv('D:/Nanohub/results/data extract from database/in_STDB_2015_jan_dec.csv', sep ='\\t', encoding = 'UTF-8', header = None)\n",
    "df.columns = ['ip','resource_id','datetime','latitude','longitude','child_id','title', 'ip_domainname', 'ip_country', 'uidNumber']\n",
    "df['datetime'] = pd.to_datetime(df['datetime'])\n",
    "df = df.sort_values(by = 'resource_id', axis = 0, ascending = True, na_position ='first')\n",
    "df_no_dups = df.drop_duplicates(subset = ['ip','resource_id'], keep = 'first')\n",
    "doy = []\n",
    "for date in df['datetime']:\n",
    "    doy.append(date.dayofyear)\n",
    "df['DoY'] = doy\n",
    "\n",
    "df_10 = df[df.groupby('resource_id').cumcount(ascending=False) >= 10]\n",
    "distinct_resources = list(df_10['resource_id'].unique())\n"
   ]
  },
  {
   "cell_type": "code",
   "execution_count": 10,
   "metadata": {
    "collapsed": true
   },
   "outputs": [],
   "source": [
    "#3 comipling ST_DBSCAN\n",
    "\n",
    "def ST_DBSCAN(points,max_distance,MinPts,dayRadius):\n",
    "    global visited \n",
    "    visited = []\n",
    "    noise = []\n",
    "    c_neighbors = []\n",
    "    cluster_id = 0\n",
    "    clusters = []\n",
    "    in_cluster = []\n",
    "    for p in points: \n",
    "        if p not in visited:\n",
    "            # neighbor_points = []\n",
    "            visited.append(p)\n",
    "            NeighborPts = regionQuery(p,points,max_distance,dayRadius)\n",
    "            if len(NeighborPts) < MinPts:\n",
    "                noise.append(p)\n",
    "            else:\n",
    "                cluster_id = cluster_id + 1\n",
    "                g = expandCluster(p,NeighborPts,max_distance,MinPts,in_cluster,cluster_id)\n",
    "                clusters.append(g)\n",
    "                c_neighbors=NeighborPts+[cluster_id]\n",
    "                #print c_neighbors\n",
    "                c_neighbors.append(g)\n",
    "    return clusters, c_neighbors\n",
    "\n",
    "#return len(NeighborPts)\n",
    "\n",
    "def expandCluster(p,NeighborPts,max_distance,MinPts,in_cluster,cluster_id):\n",
    "    in_cluster.append(p)\n",
    "    cluster = []\n",
    "    t_p = list(p) + [cluster_id]\n",
    "    cluster.append(t_p)\n",
    "    for point in NeighborPts:\n",
    "        if point not in visited:\n",
    "            visited.append(point)\n",
    "            new_neighbors = regionQuery(point,points,max_distance,dayRadius)\n",
    "            if len(new_neighbors) >= MinPts: \n",
    "                new_neighbors.append(NeighborPts)\n",
    "            if point not in in_cluster:\n",
    "                 t_point = list(point) + [cluster_id]\n",
    "                 in_cluster.append(point)\n",
    "                 cluster.append(t_point)\n",
    "    return cluster\n",
    "\n",
    "\n",
    "def regionQuery(p,points,max_distance,dayRadius):\n",
    "    neighbor_points = []\n",
    "    loc1 = (p[0],p[1])\n",
    "    for j in points:\n",
    "        if j != p:\n",
    "            # print 'P is %s and j is %s' % (p[0],j[0])\n",
    "            if abs(p[2]-j[2]) < dayRadius:\n",
    "                loc2 = (j[0],j[1])\n",
    "                dist = haversine(loc1, loc2)\n",
    "                if dist <= max_distance:\n",
    "                    neighbor_points.append(j)\n",
    "    neighbor_points.append(p) \n",
    "    return neighbor_points   \n"
   ]
  },
  {
   "cell_type": "code",
   "execution_count": null,
   "metadata": {
    "collapsed": true
   },
   "outputs": [],
   "source": [
    "\n",
    "#4 STDBSCAN call\n",
    "for l in distinct_resources: #range(21095,22000):\n",
    "    df_filtered = df_10[df_10['resource_id'] == l]\n",
    "    df_filtered =df_filtered[df_filtered['latitude'] > 0]\n",
    "    tups = df_filtered.set_index(['latitude'])[['longitude','DoY','resource_id','ip']].to_records().tolist()\n",
    "    points = tups\n",
    "    core, neigh = ST_DBSCAN(points,max_distance,MaxPts,dayRadius)\n",
    "    \n",
    "    fname = 'D:/Nanohub/results/GIS6/' + str(l) +'.csv'\n",
    "    \n",
    "    f = open(fname, 'wt')\n",
    "    try:\n",
    "        writer = csv.writer(f, lineterminator = '\\n')\n",
    "        #writer.writerow( ('Latitude', 'Longitude', 'DoY' , 'res_id' , 'cluster_id') )\n",
    "\n",
    "        for j in range(len(core)):\n",
    "            for i in range(len(core[j])):\n",
    "                    writer.writerow( core[j][i] )\n",
    "    finally:\n",
    "        f.close()"
   ]
  }
 ],
 "metadata": {
  "anaconda-cloud": {},
  "kernelspec": {
   "display_name": "Python [conda env:trisket]",
   "language": "python",
   "name": "conda-env-trisket-py"
  },
  "language_info": {
   "codemirror_mode": {
    "name": "ipython",
    "version": 3
   },
   "file_extension": ".py",
   "mimetype": "text/x-python",
   "name": "python",
   "nbconvert_exporter": "python",
   "pygments_lexer": "ipython3",
   "version": "3.5.2"
  }
 },
 "nbformat": 4,
 "nbformat_minor": 1
}
